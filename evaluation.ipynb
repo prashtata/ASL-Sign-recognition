{
 "cells": [
  {
   "cell_type": "code",
   "execution_count": 2,
   "metadata": {},
   "outputs": [],
   "source": [
    "import numpy as np\n",
    "import os\n",
    "import torch\n",
    "import torch.nn as nn\n",
    "from torch.utils.data import Dataset, random_split, DataLoader\n",
    "# from torchvision.transforms import ToTensor\n",
    "from tqdm import trange, tqdm\n",
    "from matplotlib import pyplot as plt\n",
    "from model import LSTM\n",
    "from sklearn.preprocessing import StandardScaler"
   ]
  },
  {
   "cell_type": "code",
   "execution_count": null,
   "metadata": {},
   "outputs": [],
   "source": [
    "device = torch.device(0 if torch.cuda.is_available() else \"cpu\")\n",
    "print(\"Using \" + str(device))\n",
    "\n",
    "# Locate the data\n",
    "mp_data_path = '/home/prashtata/gradschool/asl/dataset/MP_data'\n",
    "label_list = os.listdir(mp_data_path) #Since the labels are the directory names, we shall use them\n",
    "\n",
    "# print(len(label_list))\n",
    "\n",
    "data = []\n",
    "labels = []\n",
    "# num_labels = len(label_list)\n",
    "num_labels = 300\n",
    "\n",
    "for i in range(num_labels):\n",
    "\n",
    "    # List the samples under the label\n",
    "    label_dir = os.path.join(mp_data_path, label_list[i])\n",
    "    sample_list = os.listdir(label_dir)\n",
    "\n",
    "    # Access the samples\n",
    "    for sample in sample_list:\n",
    "        kp_file = os.path.join(label_dir, sample, sample+'_keypoints.npy')\n",
    "        if not os.path.exists(kp_file):\n",
    "            continue\n",
    "\n",
    "        keypoints = np.load(kp_file)\n",
    "        # print(keypoints.shape)\n",
    "\n",
    "        # Append the keypoints to the data list and the corresponding label to the labels list\n",
    "        data.append(keypoints); labels.append(i) # Labels will be denoted their index number\n",
    "        # Add the keypoint augmentations alongside\n",
    "        data.append(jitter_keypoints(keypoints)); labels.append(i)\n",
    "        data.append(scale_keypoints(keypoints)); labels.append(i)\n",
    "        data.append(time_warp_keypoints(keypoints)); labels.append(i)\n",
    "        data.append(jitter_keypoints(keypoints, noise_level=0.1)); labels.append(i)\n",
    "        data.append(scale_keypoints(keypoints, scale_range = (0.6, 1.4))); labels.append(i)\n",
    "        data.append(time_warp_keypoints(keypoints, sigma = 0.4)); labels.append(i)\n",
    "        \n",
    "\n",
    "#Standardize the data\n",
    "scaler = StandardScaler()\n",
    "data = [scaler.fit_transform(d) for d in data]  # Normalize keypoints"
   ]
  },
  {
   "cell_type": "code",
   "execution_count": null,
   "metadata": {},
   "outputs": [],
   "source": [
    "model_path = \"/home/prashtata/gradschool/asl/trained_models/model100_2_02_25_.pth\"\n",
    "\n",
    "model = torch.load(model_path)"
   ]
  },
  {
   "cell_type": "code",
   "execution_count": null,
   "metadata": {},
   "outputs": [],
   "source": [
    "hidden_size = 128\n",
    "num_stacked_layers = 4\n",
    "\n",
    "hidden1 = torch.zeros(num_stacked_layers, 1, hidden_size, device=device)\n",
    "memory1 = torch.zeros(num_stacked_layers, 1, hidden_size, device=device)\n",
    "pred, hidden1, memory1 = model(input, hidden1, memory1)"
   ]
  }
 ],
 "metadata": {
  "kernelspec": {
   "display_name": "torch_base",
   "language": "python",
   "name": "python3"
  },
  "language_info": {
   "codemirror_mode": {
    "name": "ipython",
    "version": 3
   },
   "file_extension": ".py",
   "mimetype": "text/x-python",
   "name": "python",
   "nbconvert_exporter": "python",
   "pygments_lexer": "ipython3",
   "version": "3.12.7"
  }
 },
 "nbformat": 4,
 "nbformat_minor": 2
}
